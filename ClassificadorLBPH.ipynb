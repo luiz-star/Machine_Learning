{
 "cells": [
  {
   "cell_type": "code",
   "execution_count": 2,
   "id": "6eccc58f",
   "metadata": {},
   "outputs": [],
   "source": [
    "import cv2\n",
    "\n",
    "detectorFace = cv2.CascadeClassifier(\"cascades\\haarcascade_frontalface_default.xml\")\n",
    "reconhecedor = cv2.face.LBPHFaceRecognizer_create()\n",
    "reconhecedor.read(\"classificadorIBPH.yml\")\n",
    "largura, altura = 220, 220\n",
    "font = cv2.FONT_HERSHEY_COMPLEX_SMALL\n",
    "camera = cv2.VideoCapture(0)\n",
    "\n",
    "while (True):\n",
    "    conectado, imagem = camera.read()\n",
    "    imagemCinza = cv2.cvtColor(imagem, cv2.COLOR_BGR2GRAY)\n",
    "    facesDetectadas = detectorFace.detectMultiScale(imagemCinza,\n",
    "                                                    scaleFactor=1.5,\n",
    "                                                    minSize=(30,30))\n",
    "    for (x, y, l, a) in facesDetectadas:\n",
    "        imagemFace = cv2.resize(imagemCinza[y:y + a, x:x + l], (largura, altura))\n",
    "        cv2.rectangle(imagem, (x, y), (x + l, y + a), (0,0,255), 2)\n",
    "        id, confianca = reconhecedor.predict(imagemFace)\n",
    "        nome = \"\"\n",
    "        if id == 1:\n",
    "            nome = 'Jean'\n",
    "        elif id == 2:\n",
    "            nome = 'Maria'\n",
    "        cv2.putText(imagem, nome, (x,y +(a+30)), font, 2, (0,0,255))\n",
    "        cv2.putText(imagem, str(confianca), (x,y + (a+50)), font, 1, (0,255,127))\n",
    "\n",
    "    cv2.imshow(\"Face\", imagem)\n",
    "    if cv2.waitKey(1) == ord('q'):\n",
    "        break\n",
    "\n",
    "camera.release()\n",
    "cv2.destroyAllWindows()"
   ]
  },
  {
   "cell_type": "code",
   "execution_count": null,
   "id": "bf348110",
   "metadata": {},
   "outputs": [],
   "source": []
  }
 ],
 "metadata": {
  "kernelspec": {
   "display_name": "Python 3",
   "language": "python",
   "name": "python3"
  },
  "language_info": {
   "codemirror_mode": {
    "name": "ipython",
    "version": 3
   },
   "file_extension": ".py",
   "mimetype": "text/x-python",
   "name": "python",
   "nbconvert_exporter": "python",
   "pygments_lexer": "ipython3",
   "version": "3.8.8"
  }
 },
 "nbformat": 4,
 "nbformat_minor": 5
}
